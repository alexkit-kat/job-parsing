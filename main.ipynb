{
 "cells": [
  {
   "cell_type": "code",
   "execution_count": 1,
   "id": "33624229",
   "metadata": {},
   "outputs": [],
   "source": [
    "from hh import get_jobs as hh_get_jobs\n",
    "from save import save_to_csv"
   ]
  },
  {
   "cell_type": "code",
   "execution_count": 2,
   "id": "5e412f6b",
   "metadata": {},
   "outputs": [
    {
     "name": "stdout",
     "output_type": "stream",
     "text": [
      "Данные по странице 0\n",
      "Данные по странице 1\n",
      "Данные по странице 2\n",
      "Данные по странице 3\n",
      "Данные по странице 4\n",
      "Данные по странице 5\n",
      "Данные по странице 6\n",
      "Данные по странице 7\n",
      "Данные по странице 8\n",
      "Данные по странице 9\n",
      "Данные по странице 10\n",
      "Данные по странице 11\n",
      "Данные по странице 12\n",
      "Данные по странице 13\n",
      "Данные по странице 14\n",
      "Данные по странице 15\n",
      "Данные по странице 16\n",
      "Данные по странице 17\n",
      "Данные по странице 18\n",
      "Данные по странице 19\n"
     ]
    }
   ],
   "source": [
    "jobs = hh_get_jobs()"
   ]
  },
  {
   "cell_type": "code",
   "execution_count": 3,
   "id": "8f4b8cb8",
   "metadata": {},
   "outputs": [],
   "source": [
    "save_to_csv(jobs)"
   ]
  },
  {
   "cell_type": "code",
   "execution_count": null,
   "id": "5d609496",
   "metadata": {},
   "outputs": [],
   "source": []
  },
  {
   "cell_type": "code",
   "execution_count": null,
   "id": "bcfddde9",
   "metadata": {},
   "outputs": [],
   "source": []
  },
  {
   "cell_type": "code",
   "execution_count": null,
   "id": "989f1f30",
   "metadata": {},
   "outputs": [],
   "source": []
  },
  {
   "cell_type": "code",
   "execution_count": null,
   "id": "59479015",
   "metadata": {},
   "outputs": [],
   "source": []
  },
  {
   "cell_type": "code",
   "execution_count": null,
   "id": "4504bfb0",
   "metadata": {},
   "outputs": [],
   "source": []
  },
  {
   "cell_type": "code",
   "execution_count": null,
   "id": "0d7fdabf",
   "metadata": {},
   "outputs": [],
   "source": []
  }
 ],
 "metadata": {
  "kernelspec": {
   "display_name": "Python 3 (ipykernel)",
   "language": "python",
   "name": "python3"
  },
  "language_info": {
   "codemirror_mode": {
    "name": "ipython",
    "version": 3
   },
   "file_extension": ".py",
   "mimetype": "text/x-python",
   "name": "python",
   "nbconvert_exporter": "python",
   "pygments_lexer": "ipython3",
   "version": "3.8.8"
  }
 },
 "nbformat": 4,
 "nbformat_minor": 5
}
